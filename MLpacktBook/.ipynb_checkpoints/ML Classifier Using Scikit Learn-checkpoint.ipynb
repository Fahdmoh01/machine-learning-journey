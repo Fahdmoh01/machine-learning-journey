{
 "cells": [
  {
   "cell_type": "markdown",
   "id": "44f7a656",
   "metadata": {},
   "source": [
    "## Five Main Steps for selecting a classifier:\n",
    "   - Selecting features and collecting labeled training examples\n",
    "   - Choosing performance metric\n",
    "   - Choosing a learning algorithm and training a model\n",
    "   - Evaluating  the performance of the model\n",
    "   - Changing the settings of the algorithm and tuning the model"
   ]
  },
  {
   "cell_type": "code",
   "execution_count": 2,
   "id": "1994f36d",
   "metadata": {},
   "outputs": [
    {
     "name": "stdout",
     "output_type": "stream",
     "text": [
      "Class labels: [0 1 2]\n"
     ]
    }
   ],
   "source": [
    "#implementing perceptron rule and Adaline with Scikit learn\n",
    "from sklearn import datasets\n",
    "import numpy as np\n",
    "iris = datasets.load_iris()\n",
    "X = iris.data[:, [2,3]]\n",
    "y = iris.target\n",
    "print('Class labels:', np.unique(y))\n"
   ]
  },
  {
   "cell_type": "markdown",
   "id": "f0281c80",
   "metadata": {},
   "source": [
    "## To evaluate hgow well a trained model performs on unseen data, we split data set into separate training and test datasets."
   ]
  },
  {
   "cell_type": "code",
   "execution_count": 3,
   "id": "485a2cb8",
   "metadata": {},
   "outputs": [],
   "source": [
    "from sklearn.model_selection import train_test_split\n",
    "X_train, X_test, y_train, y_test = train_test_split(\n",
    "    X, y, test_size=0.3, random_state= 1, stratify = y #stratify makes all y values occur at the same proportions\n",
    ")"
   ]
  },
  {
   "cell_type": "code",
   "execution_count": 5,
   "id": "6b9206dd",
   "metadata": {},
   "outputs": [],
   "source": [
    "from sklearn.preprocessing import StandardScaler\n",
    "sc = StandardScaler() #StandardScaler is used for feature scaling.\n",
    "sc.fit(X_train) # calculates the mean and standard deviation\n",
    "X_train_std = sc.transform(X_train) #standardizes the data with the mean and standard deviation\n",
    "X_test_std = sc.transform(X_test) #standardizes the data with the mean and standard deviation"
   ]
  },
  {
   "cell_type": "code",
   "execution_count": 14,
   "id": "fa07fbaf",
   "metadata": {},
   "outputs": [
    {
     "name": "stdout",
     "output_type": "stream",
     "text": [
      "Misclassified examples: 2\n",
      "Accuracy: 0.956\n",
      "Accuracy: 0.956\n"
     ]
    }
   ],
   "source": [
    "#checking our training model and caluclating it's accuracy\n",
    "from sklearn.linear_model import Perceptron\n",
    "ppn = Perceptron(eta0=0.01, random_state=1)\n",
    "ppn.fit(X_train_std, y_train)\n",
    "\n",
    "#checking the misclassifcation\n",
    "y_pred = ppn.predict(X_test_std)\n",
    "print('Misclassified examples: %d' %(y_test != y_pred).sum())\n",
    "\n",
    "#checking the model accuracy\n",
    "from sklearn.metrics import accuracy_score\n",
    "print('Accuracy: %.3f' % accuracy_score(y_test, y_pred))\n",
    "\n",
    "#alternative: checking model accuracy using inbuilt perceptron accuracy method\n",
    "print('Accuracy: %.3f' %ppn.score(X_test_std, y_test))"
   ]
  },
  {
   "cell_type": "markdown",
   "id": "9eae5cba",
   "metadata": {},
   "source": [
    "## Plotting decision regions"
   ]
  },
  {
   "cell_type": "code",
   "execution_count": 15,
   "id": "53730c94",
   "metadata": {},
   "outputs": [],
   "source": [
    "from matplotlib.colors import ListedColormap\n",
    "import matplotlib.pyplot as plt\n",
    "def plot_decision_regions(X,y,classifier,test_idx = None, resolution = 0.02):\n",
    "    #setup marker generator and color map\n",
    "    markers = ('o','s','^', 'v','<')\n",
    "    colors = ('red', 'blue', 'lightgreen', 'gray', 'cyan')\n",
    "    cmap = ListedColormap(colors[:len(np.unique(y))])\n",
    "    \n",
    "    #plot the decision surface\n",
    "    x1_min, x1_max = X[:,0].min() - 1, X[:,0].max() + 1\n",
    "    x2_min, x2_max = X[:, 1].min() - 1, X[:, 1].max() + 1\n",
    "    xx1, xx2 = np.meshgrid(np.arange(x1_min, x1_max, resolution), np.arange(x2_min, x2_max, resolution))\n",
    "    \n",
    "    lab = classifier.predict(np.array([xx1.ravel(), xx2.ravel()]).T)\n",
    "    lab = lab.reshape(xx1.shape)\n",
    "    plt.contourf(xx1,xx2, lab, alpha=0.3, cmap=cmap)\n",
    "    plt.xlim(xx1.min(), xx1.max())\n",
    "    plt.ylim(xx2.min(), xx2.max())\n",
    "    \n",
    "    #plot class examples\n",
    "    for idx, cl in enumerate(np.unique(y)):\n",
    "        plt.scatter( x = X[y == c1,0],\n",
    "                     y = X[y == c1,1],\n",
    "                     alpha = 0.8,\n",
    "                     c = colors[idx],\n",
    "                     marker = markers[idx],\n",
    "                     label = f'Class {cl}',\n",
    "                     edgecolor = 'black'\n",
    "                   )\n",
    "    #hihglight test examples\n",
    "    if test_idx:\n",
    "        #plot all examples\n",
    "        X_test, y_test = X[test_idx, :] , y[test_idx]\n",
    "        \n",
    "        plt.scatter(X_test[:, 0], X_test[:,1],\n",
    "                   c='none', edgecolor='black', alpha=1.0,\n",
    "                   s=100, label='Test set')\n",
    "    "
   ]
  },
  {
   "cell_type": "code",
   "execution_count": null,
   "id": "afdfb975",
   "metadata": {},
   "outputs": [],
   "source": [
    "#we can now specify the indices of the examples we want to map on the plot.\n",
    "X_combined_std = np.vstack((X_train_std, X_test_std))\n",
    "y_combined = np.hstack((y_train, y_test))\n",
    "\n",
    "p"
   ]
  }
 ],
 "metadata": {
  "kernelspec": {
   "display_name": "Python 3 (ipykernel)",
   "language": "python",
   "name": "python3"
  },
  "language_info": {
   "codemirror_mode": {
    "name": "ipython",
    "version": 3
   },
   "file_extension": ".py",
   "mimetype": "text/x-python",
   "name": "python",
   "nbconvert_exporter": "python",
   "pygments_lexer": "ipython3",
   "version": "3.9.12"
  }
 },
 "nbformat": 4,
 "nbformat_minor": 5
}
